{
 "cells": [
  {
   "cell_type": "markdown",
   "metadata": {},
   "source": [
    "<h1>Day # 03 - Control Flow and Loops</h1>\n",
    "\n",
    "<h3>Aim:</h3>\n",
    "<ul>\n",
    "    <li>Learn about conditional statements and loops in Python.</li>\n",
    "</ul>"
   ]
  },
  {
   "cell_type": "code",
   "execution_count": 2,
   "metadata": {},
   "outputs": [],
   "source": [
    "#function to get dtype(int) input from user...\n",
    "\n",
    "def get_input(data_type, input_label, error_label):\n",
    "    while True:\n",
    "        try:\n",
    "            return data_type(input(input_label))\n",
    "        except ValueError:\n",
    "            print(error_label)"
   ]
  },
  {
   "cell_type": "code",
   "execution_count": 49,
   "metadata": {},
   "outputs": [],
   "source": [
    "# function to get input list from user...\n",
    "\n",
    "def get_list(data_type, input_label, error_label=\"Enter a valid entry..\", stopping_character=-1):\n",
    "    func_list = []\n",
    "\n",
    "    while True:\n",
    "            \n",
    "        if data_type == \"mix\":\n",
    "            i = input(input_label)\n",
    "        else:\n",
    "            i = get_input(data_type, input_label, error_label)\n",
    "\n",
    "        if i != stopping_character:\n",
    "            func_list.append(i)\n",
    "        else:\n",
    "            break\n",
    "\n",
    "    return func_list\n"
   ]
  },
  {
   "cell_type": "markdown",
   "metadata": {},
   "source": [
    "<h2>Example Questions</h2>"
   ]
  },
  {
   "cell_type": "markdown",
   "metadata": {},
   "source": [
    "<h3>Q1. Write a program that checks if a given number is positive, negative or zero.</h3>"
   ]
  },
  {
   "cell_type": "code",
   "execution_count": 18,
   "metadata": {},
   "outputs": [
    {
     "name": "stdout",
     "output_type": "stream",
     "text": [
      "input:  4\n",
      "Input number is Positive.\n"
     ]
    }
   ],
   "source": [
    "e1_input = get_input(int, \"Enter a number: \",\"Enter a valid number...\")\n",
    "\n",
    "print(\"input: \",e1_input)\n",
    "\n",
    "if e1_input == 0:\n",
    "    print(\"Input number is Zero.\")\n",
    "elif e1_input > 0:\n",
    "    print(\"Input number is Positive.\")\n",
    "else:\n",
    "    print(\"Input number is Negative.\")"
   ]
  },
  {
   "cell_type": "markdown",
   "metadata": {},
   "source": [
    "<h3>Q2. Create a loop that prints the first 10 even numbers.</h3>"
   ]
  },
  {
   "cell_type": "code",
   "execution_count": 8,
   "metadata": {},
   "outputs": [
    {
     "name": "stdout",
     "output_type": "stream",
     "text": [
      "First 10 even numbers:  [0, 2, 4, 6, 8, 10, 12, 14, 16, 18, 20]\n"
     ]
    }
   ],
   "source": [
    "even_numbers = []\n",
    "i = 0\n",
    "while len(even_numbers) != 11:\n",
    "    \n",
    "    if i%2 == 0:\n",
    "        even_numbers.append(i)\n",
    "    \n",
    "    i += 1\n",
    "\n",
    "print(\"First 10 even numbers: \",even_numbers)"
   ]
  },
  {
   "cell_type": "markdown",
   "metadata": {},
   "source": [
    "<h3>Q3. Implement a program that finds the largest number in a list.</h3>"
   ]
  },
  {
   "cell_type": "code",
   "execution_count": 10,
   "metadata": {},
   "outputs": [
    {
     "name": "stdout",
     "output_type": "stream",
     "text": [
      "Entered list:  [-50, -100, -7, -3]\n",
      "Largest number:  -3\n"
     ]
    }
   ],
   "source": [
    "e3_list = []\n",
    "\n",
    "# taking input\n",
    "while True:\n",
    "    e3_input = get_input(int, \"Enter a number in list: \", \"Enter a valid number\")\n",
    "    \n",
    "    if e3_input == -1:\n",
    "        break\n",
    "    \n",
    "    e3_list.append(e3_input)\n",
    "\n",
    "# checking the largest number\n",
    "larget_number = e3_list[0]\n",
    "for i in e3_list:\n",
    "    if i > larget_number:\n",
    "        larget_number = i\n",
    "\n",
    "print(\"Entered list: \", e3_list)\n",
    "print(\"Largest number: \",larget_number)"
   ]
  },
  {
   "cell_type": "markdown",
   "metadata": {},
   "source": [
    "<h2>Practice Questions...</h2>"
   ]
  },
  {
   "cell_type": "markdown",
   "metadata": {},
   "source": [
    "<h3>Q1. Create a program that takes a year as input and checks if it is a leap year or not.</h3>"
   ]
  },
  {
   "cell_type": "markdown",
   "metadata": {},
   "source": [
    "<h5>Leap year rules: How to calculate leap years.</h5>\n",
    "<ul>\n",
    "    <li>The year must be evenly divisible by 4.</li>\n",
    "    <li>if the can also be evenly divided by 100, it is not a leap year.</li>\n",
    "<span>unless...</span>\n",
    "    <li>The year is evenly divisible by 400.</li>\n",
    "</ul>\n",
    "\n",
    "<a href=\"https://www.timeanddate.com/date/leapyear.html\">Click for the source of these rules...</a>"
   ]
  },
  {
   "cell_type": "code",
   "execution_count": 17,
   "metadata": {},
   "outputs": [
    {
     "name": "stdout",
     "output_type": "stream",
     "text": [
      "Input year:  2020\n",
      "This is a leap year.\n"
     ]
    }
   ],
   "source": [
    "q1_input = get_input(int, \"Enter a year to check if it is leap year: \", \"Enter a valid year...\")\n",
    "leap_year = False\n",
    "\n",
    "if q1_input % 4 == 0:\n",
    "    leap_year = True\n",
    "    if q1_input % 100 == 0 and q1_input % 400 != 0:\n",
    "        leap_year = False\n",
    "\n",
    "print(\"Input year: \", q1_input)\n",
    "if leap_year == True:\n",
    "    print(\"This is a leap year.\")   \n",
    "\n",
    "else:\n",
    "    print(\"This is not a leap year.\")"
   ]
  },
  {
   "cell_type": "markdown",
   "metadata": {},
   "source": [
    "<h3>Q2. Given a list of integers, find all the even numbers and store them in a new list.</h3>"
   ]
  },
  {
   "cell_type": "code",
   "execution_count": 25,
   "metadata": {},
   "outputs": [
    {
     "name": "stdout",
     "output_type": "stream",
     "text": [
      "Input List:  [8, 9, 2, 10, 4, 7, 11, 15]\n",
      "List of prime numbers:  [2, 4, 8, 10]\n"
     ]
    }
   ],
   "source": [
    "q2_list = get_list(int, \"Enter a number in list\")\n",
    "prime_list = []\n",
    "\n",
    "for i in q2_list:\n",
    "    if i % 2 == 0 and i not in prime_list:\n",
    "        prime_list.append(i)\n",
    "\n",
    "# prime_list = sorted(prime_list)\n",
    "print(\"Input List: \", q2_list)\n",
    "print(\"List of prime numbers: \", sorted(prime_list))"
   ]
  },
  {
   "cell_type": "markdown",
   "metadata": {},
   "source": [
    "<h3>Q3. Write a Python program to check if a given number is a prime number.</h3>"
   ]
  },
  {
   "cell_type": "code",
   "execution_count": 27,
   "metadata": {},
   "outputs": [
    {
     "name": "stdout",
     "output_type": "stream",
     "text": [
      "11 is a prime number\n"
     ]
    }
   ],
   "source": [
    "q3_input = get_input(int, \"Enter a number: \", \"Enter a valid number...\")\n",
    "prime = True\n",
    "\n",
    "for i in range(2, q3_input):\n",
    "    if q3_input % i == 0:\n",
    "        prime = False\n",
    "        break\n",
    "\n",
    "if prime:\n",
    "    print(f\"{q3_input} is a prime number\")\n",
    "\n",
    "else:\n",
    "    print(f\"{q3_input} is not a prime number\")"
   ]
  },
  {
   "cell_type": "markdown",
   "metadata": {},
   "source": [
    "<h3>Q4. Create a program that generates the Fibonacci sequence up to a given number of terms.</h3>"
   ]
  },
  {
   "cell_type": "markdown",
   "metadata": {},
   "source": [
    "<p style=\"line-space: 2px;\"><b>Fibonacci Sequence: </b>In mathematics, the Fibonacci sequence is a sequence in which each number is the sum of the two preceding ones. Numbers that are part of the Fibonacci sequence are known as Fibonacci numbers, commonly denoted Fn .</p>\n",
    "<br>\n",
    "\n",
    "<b><math  display=\"block\"><semantics><mrow><msub><mi>F</mi><mi>n</mi></msub><mo>=</mo><msub><mi>F</mi><mrow><mi>n</mi><mo>−</mo><mn>1</mn></mrow></msub><mo>+</mo><msub><mi>F</mi><mrow><mi>n</mi><mo>−</mo><mn>2</mn></mrow></msub></mrow><annotation encoding=\"application/x-tex\">F_n = F_{n-1} + F_{n-2}</annotation></semantics></math>"
   ]
  },
  {
   "cell_type": "code",
   "execution_count": 33,
   "metadata": {},
   "outputs": [
    {
     "name": "stdout",
     "output_type": "stream",
     "text": [
      "Fiboacci sequence upto 10 terms: [0, 1, 1, 2, 3, 5, 8, 13, 21, 34]\n"
     ]
    }
   ],
   "source": [
    "q4_input = get_input(int, \"How many terms of Fibonacci sequence do you want: \", \"Enter a valid number\")\n",
    "\n",
    "Fibonacci = [0, 1]\n",
    "while len(Fibonacci) != q4_input: \n",
    "    Fibonacci.append(Fibonacci[-1] + Fibonacci[-2])\n",
    "    \n",
    "\n",
    "print(f\"Fiboacci sequence upto {q4_input} terms: {Fibonacci}\")"
   ]
  },
  {
   "cell_type": "markdown",
   "metadata": {},
   "source": [
    "<h3>Q5. Given a list of names, print all names starting with the letter 'A'.</h3>"
   ]
  },
  {
   "cell_type": "code",
   "execution_count": 35,
   "metadata": {},
   "outputs": [
    {
     "name": "stdout",
     "output_type": "stream",
     "text": [
      "Name list:                        ['Arslan', 'Saad', 'Umar', 'Hamza', 'Ahmed', 'Fahad', 'Husnain', 'Asad']\n",
      "List of names starting with 'A':  ['Arslan', 'Ahmed', 'Asad']\n"
     ]
    }
   ],
   "source": [
    "name_list = [\"Arslan\", \"Saad\", \"Umar\", \"Hamza\", \"Ahmed\", \"Fahad\", \"Husnain\", \"Asad\"]\n",
    "output_list = []\n",
    "\n",
    "for name in name_list:\n",
    "    if name.upper()[0] == 'A':\n",
    "        output_list.append(name)\n",
    "\n",
    "print(\"Name list:                       \", name_list)\n",
    "print(\"List of names starting with 'A': \", output_list)"
   ]
  },
  {
   "cell_type": "markdown",
   "metadata": {},
   "source": [
    "<h3>Q6. Implement a program that prints the multiplication table of a given number.</h3>\n"
   ]
  },
  {
   "cell_type": "code",
   "execution_count": 37,
   "metadata": {},
   "outputs": [
    {
     "name": "stdout",
     "output_type": "stream",
     "text": [
      "5 x 0    = 0\n",
      "5 x 1    = 5\n",
      "5 x 2    = 10\n",
      "5 x 3    = 15\n",
      "5 x 4    = 20\n",
      "5 x 5    = 25\n",
      "5 x 6    = 30\n",
      "5 x 7    = 35\n",
      "5 x 8    = 40\n",
      "5 x 9    = 45\n",
      "5 x 10    = 50\n"
     ]
    }
   ],
   "source": [
    "q6_input = get_input(int, \"Enter a number for multiplication table: \", \"Enter a valid number...\")\n",
    "\n",
    "for i in range(11):\n",
    "    print(f\"{q6_input} x {i}    = {q6_input*i}\")"
   ]
  },
  {
   "cell_type": "markdown",
   "metadata": {},
   "source": [
    "<h3>Q7. Write a program that calculates the factorial of a given number.</h3>"
   ]
  },
  {
   "cell_type": "code",
   "execution_count": 38,
   "metadata": {},
   "outputs": [],
   "source": [
    "def calculate_factorial(number):\n",
    "    output = 1\n",
    "    for i in range(2, number+1):\n",
    "        output *= i\n",
    "        \n",
    "    return output"
   ]
  },
  {
   "cell_type": "code",
   "execution_count": 41,
   "metadata": {},
   "outputs": [
    {
     "name": "stdout",
     "output_type": "stream",
     "text": [
      "Factorial of number 5 = 120\n"
     ]
    }
   ],
   "source": [
    "q7_input = get_input(int, \"Enter a number to find factorial: \", \"Enter a valid number\")\n",
    "\n",
    "print(f\"Factorial of number {q7_input} = {calculate_factorial(q7_input)}\")"
   ]
  },
  {
   "cell_type": "markdown",
   "metadata": {},
   "source": [
    "<h3>Q8. Create a loop that prints all prime numbers between 1 and 50.</h3>"
   ]
  },
  {
   "cell_type": "code",
   "execution_count": 43,
   "metadata": {},
   "outputs": [
    {
     "name": "stdout",
     "output_type": "stream",
     "text": [
      "Prime numbers in range (1,50): [2, 3, 5, 7, 11, 13, 17, 19, 23, 29, 31, 37, 41, 43, 47]\n"
     ]
    }
   ],
   "source": [
    "prime_numbers = []\n",
    "\n",
    "for i in range(2, 50):\n",
    "    prime = True\n",
    "    for j in range(2, i):\n",
    "        if i%j == 0:\n",
    "            prime = False\n",
    "    \n",
    "    if prime == True:\n",
    "        prime_numbers.append(i)\n",
    "\n",
    "print(f\"Prime numbers in range (1,50): {prime_numbers}\")\n",
    "        "
   ]
  },
  {
   "cell_type": "markdown",
   "metadata": {},
   "source": [
    "<h3>Q9. Given a list of words, count the number of words with more than five characters.</h3>"
   ]
  },
  {
   "cell_type": "code",
   "execution_count": 51,
   "metadata": {},
   "outputs": [
    {
     "name": "stdout",
     "output_type": "stream",
     "text": [
      "Input list: ['Hello', 'my', 'name', 'is', 'Arslan', 'Khalid', 'and', 'i am doing', 'Python Language']\n",
      "Words with more than 5 characters: 4 ==> ['Arslan', 'Khalid', 'i am doing', 'Python Language']\n"
     ]
    }
   ],
   "source": [
    "q9_list = get_list(\"mix\", \"Enter a word to add in list: \", stopping_character='stop')\n",
    "out_list = []\n",
    "\n",
    "for word in q9_list:\n",
    "    if len(word) > 5:\n",
    "        out_list.append(word)\n",
    "\n",
    "print(f\"Input list: {q9_list}\")\n",
    "print(f\"Words with more than 5 characters: {len(out_list)} ==> {out_list}\")"
   ]
  },
  {
   "cell_type": "markdown",
   "metadata": {},
   "source": [
    "<h3>Q10. Calculate the sum of digits of a given number.</h3>"
   ]
  },
  {
   "cell_type": "code",
   "execution_count": 55,
   "metadata": {},
   "outputs": [
    {
     "name": "stdout",
     "output_type": "stream",
     "text": [
      "Input number: 12345\n",
      "Sum of it's digits: 15\n"
     ]
    }
   ],
   "source": [
    "q10_input = str(get_input(int, \"Enter a number to get sum of it's digits: \", \"Enter a valid number\"))\n",
    "result = 0\n",
    "\n",
    "for i in range(len(q10_input)):\n",
    "    result += int(q10_input[i])\n",
    "\n",
    "print(f\"Input number: {q10_input}\")\n",
    "print(f\"Sum of it's digits: {result}\")"
   ]
  },
  {
   "cell_type": "markdown",
   "metadata": {},
   "source": [
    "------------------------------------------------------------------------------------------------------------------\n"
   ]
  }
 ],
 "metadata": {
  "kernelspec": {
   "display_name": "Python 3",
   "language": "python",
   "name": "python3"
  },
  "language_info": {
   "codemirror_mode": {
    "name": "ipython",
    "version": 3
   },
   "file_extension": ".py",
   "mimetype": "text/x-python",
   "name": "python",
   "nbconvert_exporter": "python",
   "pygments_lexer": "ipython3",
   "version": "3.11.5"
  }
 },
 "nbformat": 4,
 "nbformat_minor": 2
}
