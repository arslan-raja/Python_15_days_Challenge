{
 "cells": [
  {
   "cell_type": "markdown",
   "metadata": {},
   "source": [
    "<h1>Day # 03 - Control Flow and Loops</h1>\n",
    "\n",
    "<h3>Aim:</h3>\n",
    "<ul>\n",
    "    <li>Learn about conditional statements and loops in Python.</li>\n",
    "</ul>"
   ]
  },
  {
   "cell_type": "code",
   "execution_count": 2,
   "metadata": {},
   "outputs": [],
   "source": [
    "#function to get dtype(int) input from user...\n",
    "\n",
    "def get_input(data_type, input_label, error_label):\n",
    "    while True:\n",
    "        try:\n",
    "            return data_type(input(input_label))\n",
    "        except ValueError:\n",
    "            print(error_label)"
   ]
  },
  {
   "cell_type": "markdown",
   "metadata": {},
   "source": [
    "<h2>Example Questions</h2>"
   ]
  },
  {
   "cell_type": "markdown",
   "metadata": {},
   "source": [
    "<h3>Q1. Write a program that checks if a given number is positive, negative or zero.</h3>"
   ]
  },
  {
   "cell_type": "code",
   "execution_count": 7,
   "metadata": {},
   "outputs": [
    {
     "name": "stdout",
     "output_type": "stream",
     "text": [
      "input:  5\n",
      "Input number is Positive.\n"
     ]
    }
   ],
   "source": [
    "q1_input = get_input(int, \"Enter a number: \",\"Enter a valid number...\")\n",
    "\n",
    "print(\"input: \",q1_input)\n",
    "\n",
    "if q1_input == 0:\n",
    "    print(\"Input number is Zero.\")\n",
    "elif q1_input > 0:\n",
    "    print(\"Input number is Positive.\")\n",
    "else:\n",
    "    print(\"Input number is Negative.\")"
   ]
  },
  {
   "cell_type": "markdown",
   "metadata": {},
   "source": [
    "<h3>Q2. Create a loop that prints the first 10 even numbers.</h3>"
   ]
  },
  {
   "cell_type": "code",
   "execution_count": 8,
   "metadata": {},
   "outputs": [
    {
     "name": "stdout",
     "output_type": "stream",
     "text": [
      "First 10 even numbers:  [0, 2, 4, 6, 8, 10, 12, 14, 16, 18, 20]\n"
     ]
    }
   ],
   "source": [
    "even_numbers = []\n",
    "i = 0\n",
    "while len(even_numbers) != 11:\n",
    "    \n",
    "    if i%2 == 0:\n",
    "        even_numbers.append(i)\n",
    "    \n",
    "    i += 1\n",
    "\n",
    "print(\"First 10 even numbers: \",even_numbers)"
   ]
  },
  {
   "cell_type": "markdown",
   "metadata": {},
   "source": [
    "<h3>Q3. Implement a program that finds the largest number in a list.</h3>"
   ]
  },
  {
   "cell_type": "code",
   "execution_count": 10,
   "metadata": {},
   "outputs": [
    {
     "name": "stdout",
     "output_type": "stream",
     "text": [
      "Entered list:  [-50, -100, -7, -3]\n",
      "Largest number:  -3\n"
     ]
    }
   ],
   "source": [
    "q3_list = []\n",
    "\n",
    "# taking input\n",
    "while True:\n",
    "    q3_input = get_input(int, \"Enter a number in list: \", \"Enter a valid number\")\n",
    "    \n",
    "    if q3_input == -1:\n",
    "        break\n",
    "    \n",
    "    q3_list.append(q3_input)\n",
    "\n",
    "# checking the largest number\n",
    "larget_number = q3_list[0]\n",
    "for i in q3_list:\n",
    "    if i > larget_number:\n",
    "        larget_number = i\n",
    "\n",
    "print(\"Entered list: \", q3_list)\n",
    "print(\"Largest number: \",larget_number)"
   ]
  },
  {
   "cell_type": "markdown",
   "metadata": {},
   "source": [
    "<h2>Practice Questions...</h2>"
   ]
  },
  {
   "cell_type": "markdown",
   "metadata": {},
   "source": [
    "<h3>Q1. Create a program that takes a year as input and checks if it is a leap year or not.</h3>"
   ]
  },
  {
   "cell_type": "markdown",
   "metadata": {},
   "source": [
    "<h5>Leap year rules: How to calculate leap years.</h5>\n",
    "<ul>\n",
    "    <li>The year must be evenly divisible by 4.</li>\n",
    "    <li>if the can also be evenly divided by 100, it is not a leap year.</li>\n",
    "<span>unless...</span>\n",
    "    <li>The year is evenly divisible by 400.</li>\n",
    "</ul>\n",
    "\n",
    "<a href=\"https://www.timeanddate.com/date/leapyear.html\">Click for the source of these rules...</a>"
   ]
  },
  {
   "cell_type": "code",
   "execution_count": 17,
   "metadata": {},
   "outputs": [
    {
     "name": "stdout",
     "output_type": "stream",
     "text": [
      "Input year:  2020\n",
      "This is a leap year.\n"
     ]
    }
   ],
   "source": [
    "q1_input = get_input(int, \"Enter a year to check if it is leap year: \", \"Enter a valid year...\")\n",
    "leap_year = False\n",
    "\n",
    "if q1_input % 4 == 0:\n",
    "    leap_year = True\n",
    "    if q1_input % 100 == 0 and q1_input % 400 != 0:\n",
    "        leap_year = False\n",
    "\n",
    "print(\"Input year: \", q1_input)\n",
    "if leap_year == True:\n",
    "    print(\"This is a leap year.\")   \n",
    "\n",
    "else:\n",
    "    print(\"This is not a leap year.\")"
   ]
  },
  {
   "cell_type": "markdown",
   "metadata": {},
   "source": [
    "<h3>Q2. Create a program that takes a temperature in Celsius and converts it to Kelvin.</h3>"
   ]
  },
  {
   "cell_type": "code",
   "execution_count": 8,
   "metadata": {},
   "outputs": [
    {
     "name": "stdout",
     "output_type": "stream",
     "text": [
      "15°C is equal 288.15 K.\n"
     ]
    }
   ],
   "source": [
    "c = get_input(int, \"Enter the temperature in Celsius: \", \"Enter a valid temperature\")\n",
    "\n",
    "k = c + 273.15\n",
    "print(f\"{c}°C is equal {k} K.\")"
   ]
  },
  {
   "cell_type": "markdown",
   "metadata": {},
   "source": [
    "<h3>Q3. Implement a program that checks if a given string is a palindrome .</h3>"
   ]
  },
  {
   "cell_type": "code",
   "execution_count": 9,
   "metadata": {},
   "outputs": [
    {
     "name": "stdout",
     "output_type": "stream",
     "text": [
      "String is Palindrome\n"
     ]
    }
   ],
   "source": [
    "user = input(\"Enter a string: \").lower()\n",
    "reversed = user[::-1]\n",
    "\n",
    "print(\"String is Palindrome\") if user == reversed else print(\"String is not Palindrome\")"
   ]
  },
  {
   "cell_type": "markdown",
   "metadata": {},
   "source": [
    "<h3>Q4. Create a function to reverse a string.</h3>"
   ]
  },
  {
   "cell_type": "code",
   "execution_count": 10,
   "metadata": {},
   "outputs": [
    {
     "name": "stdout",
     "output_type": "stream",
     "text": [
      "Original input:  Hello World\n",
      "Reversed input:  dlroW olleH\n"
     ]
    }
   ],
   "source": [
    "def reverse_string(str):\n",
    "    return str[::-1]\n",
    "\n",
    "a = input(\"Enter a string: \")\n",
    "reversed_str = reverse_string(a)\n",
    "print(\"Original input: \", a)\n",
    "print(\"Reversed input: \", reversed_str)\n"
   ]
  },
  {
   "cell_type": "markdown",
   "metadata": {},
   "source": [
    "<h3>Q5. Giver a list of names, concatenate them into a single string separated by spaces.</h3>"
   ]
  },
  {
   "cell_type": "code",
   "execution_count": 11,
   "metadata": {},
   "outputs": [
    {
     "name": "stdout",
     "output_type": "stream",
     "text": [
      "Name list:  ['Arslan', 'Saad', 'Umar', 'Hamza', 'Fahad', 'Husnain']\n",
      "Name string:  Arslan Saad Umar Hamza Fahad Husnain \n"
     ]
    }
   ],
   "source": [
    "name_list = [\"Arslan\", \"Saad\", \"Umar\", \"Hamza\", \"Fahad\", \"Husnain\"]\n",
    "name_string = \"\"\n",
    "for i in name_list:\n",
    "    name_string += i + \" \"\n",
    "\n",
    "print(\"Name list: \", name_list)\n",
    "print(\"Name string: \", name_string)"
   ]
  },
  {
   "cell_type": "markdown",
   "metadata": {},
   "source": [
    "<h3>Q6. Write a python program to check if a given string is a pangram.</h3>\n",
    "<p>(contains all letters of the alphabet)</p>"
   ]
  },
  {
   "cell_type": "code",
   "execution_count": 22,
   "metadata": {},
   "outputs": [
    {
     "name": "stdout",
     "output_type": "stream",
     "text": [
      "Input String:  hello world\n",
      "Input string is not pangram\n"
     ]
    }
   ],
   "source": [
    "alphabet = ['a','b','c','d','e','f', 'g','h','i','j','k','l','m','n', 'o','p','q','r','s','t','u','v','w','x','y','z']\n",
    "\n",
    "pangram_input = input(\"Enter a string to check pangram: \").lower()\n",
    "\n",
    "for char in pangram_input:\n",
    "    if char in alphabet:\n",
    "        alphabet.remove(char)\n",
    "\n",
    "print(\"Input String: \", pangram_input)\n",
    "\n",
    "if len(alphabet) == 0:\n",
    "    print(\"Input string is pangram\")\n",
    "\n",
    "else:\n",
    "    print(\"Input string is not pangram\")"
   ]
  },
  {
   "cell_type": "markdown",
   "metadata": {},
   "source": [
    "<h3>Q7. Calculate the area and circumference of a circle given its radius.</h3>"
   ]
  },
  {
   "cell_type": "code",
   "execution_count": 24,
   "metadata": {},
   "outputs": [
    {
     "name": "stdout",
     "output_type": "stream",
     "text": [
      "Radius of the circle            : 10.0 cm\n",
      "Area of that circle             : 314.1592653589793 cm^2\n",
      "Circumference of that circle    : 62.83185307179586 cm\n"
     ]
    }
   ],
   "source": [
    "import math         # to use PI\n",
    "\n",
    "radius = get_input(float, \"Enter the radius of the circle(cm): \", \"Enter a valid radius...\")\n",
    "\n",
    "area = math.pi * radius**2\n",
    "circumference = 2 * math.pi * radius\n",
    "\n",
    "print(f\"Radius of the circle            : {radius} cm\")\n",
    "print(f\"Area of that circle             : {area} cm^2\")\n",
    "print(f\"Circumference of that circle    : {circumference} cm\")"
   ]
  },
  {
   "cell_type": "markdown",
   "metadata": {},
   "source": [
    "<h3>Q8. Implement a program that converts a given number of minutes into hours and minutes.</h3>"
   ]
  },
  {
   "cell_type": "code",
   "execution_count": 33,
   "metadata": {},
   "outputs": [
    {
     "name": "stdout",
     "output_type": "stream",
     "text": [
      "Time in minutes     : 122 minutes\n",
      "Time in hours       : 2h and 2m\n"
     ]
    }
   ],
   "source": [
    "time = get_input(int, \"Enter time in minutes: \", \"Enter a valid number...\")\n",
    "hours = time // 60\n",
    "minutes = time - (hours * 60)\n",
    "\n",
    "print(f\"Time in minutes     : {time} minutes\")\n",
    "print(f\"Time in hours       : {hours}h\", end=' ')\n",
    "\n",
    "if minutes != 0:\n",
    "    print(f\"and {minutes}m\")"
   ]
  },
  {
   "cell_type": "markdown",
   "metadata": {},
   "source": [
    "<h3>Q9. Create a function to count the number of vowels in a given string.</h3>"
   ]
  },
  {
   "cell_type": "code",
   "execution_count": 36,
   "metadata": {},
   "outputs": [
    {
     "name": "stdout",
     "output_type": "stream",
     "text": [
      "Input String: Hello my name is Arslan Khalid.\n",
      "No of vowels: 9\n"
     ]
    }
   ],
   "source": [
    "def count_vowels(str):\n",
    "    vowels = ['a', 'e', 'i', 'o', 'u']\n",
    "    count = 0\n",
    "    \n",
    "    for char in str.lower():\n",
    "        if char in vowels:\n",
    "            count += 1\n",
    "\n",
    "    return count\n",
    "\n",
    "\n",
    "q9_input = input(\"Enter a string to count vowels: \")\n",
    "vowels_count = count_vowels(q9_input)\n",
    "\n",
    "print(f\"Input String: {q9_input}\")\n",
    "print(f\"No of vowels: {vowels_count}\")"
   ]
  },
  {
   "cell_type": "markdown",
   "metadata": {},
   "source": [
    "<h3>Q10. Write a program to check if a number if prime.</h3>"
   ]
  },
  {
   "cell_type": "code",
   "execution_count": 39,
   "metadata": {},
   "outputs": [
    {
     "name": "stdout",
     "output_type": "stream",
     "text": [
      "11 is a prime number\n"
     ]
    }
   ],
   "source": [
    "q10_input = get_input(int, \"Enter a number: \", \"Enter a valid number...\")\n",
    "prime = True\n",
    "\n",
    "for i in range(2, q10_input):\n",
    "    if q10_input % i == 0:\n",
    "        prime = False\n",
    "        break\n",
    "\n",
    "if prime:\n",
    "    print(f\"{q10_input} is a prime number\")\n",
    "\n",
    "else:\n",
    "    print(f\"{q10_input} is not a prime number\")"
   ]
  },
  {
   "cell_type": "markdown",
   "metadata": {},
   "source": [
    "------------------------------------------------------------------------------------------------------------------\n"
   ]
  }
 ],
 "metadata": {
  "kernelspec": {
   "display_name": "Python 3",
   "language": "python",
   "name": "python3"
  },
  "language_info": {
   "codemirror_mode": {
    "name": "ipython",
    "version": 3
   },
   "file_extension": ".py",
   "mimetype": "text/x-python",
   "name": "python",
   "nbconvert_exporter": "python",
   "pygments_lexer": "ipython3",
   "version": "3.11.5"
  }
 },
 "nbformat": 4,
 "nbformat_minor": 2
}
