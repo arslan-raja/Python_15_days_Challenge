{
 "cells": [
  {
   "cell_type": "markdown",
   "id": "0b8ef652",
   "metadata": {},
   "source": [
    "<h1>Day # 04 - Functions</h1>\n",
    "\n",
    "<h3>Aim:</h3>\n",
    "<ul>\n",
    "    <li>Understand functions and how to define and call them.</li>\n",
    "</ul>"
   ]
  },
  {
   "cell_type": "code",
   "execution_count": null,
   "id": "9e7daf2f",
   "metadata": {
    "lines_to_next_cell": 1
   },
   "outputs": [],
   "source": [
    "#function to get dtype(int) input from user...\n",
    "\n",
    "def get_input(data_type, input_label, error_label):\n",
    "    while True:\n",
    "        try:\n",
    "            return data_type(input(input_label))\n",
    "        except ValueError:\n",
    "            print(error_label)"
   ]
  },
  {
   "cell_type": "code",
   "execution_count": null,
   "id": "9164d2c9",
   "metadata": {},
   "outputs": [],
   "source": [
    "# function to get input list from user...\n",
    "\n",
    "def get_list(data_type, input_label, error_label=\"Enter a valid entry..\", stopping_character=-1):\n",
    "    func_list = []\n",
    "\n",
    "    while True:\n",
    "            \n",
    "        if data_type == \"mix\":\n",
    "            i = input(input_label)\n",
    "        else:\n",
    "            i = get_input(data_type, input_label, error_label)\n",
    "\n",
    "        if i != stopping_character:\n",
    "            func_list.append(i)\n",
    "        else:\n",
    "            break\n",
    "\n",
    "    return func_list"
   ]
  },
  {
   "cell_type": "markdown",
   "id": "bd12d749",
   "metadata": {},
   "source": [
    "<h2>Example Questions</h2>"
   ]
  },
  {
   "cell_type": "markdown",
   "id": "b83c0fc5",
   "metadata": {},
   "source": [
    "<h3>Q1. Write a function to calculate the area of the circle given its radius.</h3>"
   ]
  },
  {
   "cell_type": "code",
   "execution_count": null,
   "id": "724ed541",
   "metadata": {
    "lines_to_next_cell": 1
   },
   "outputs": [],
   "source": [
    "import math\n",
    "\n",
    "def cal_circle_area(radius):\n",
    "    return math.pi * radius**2"
   ]
  },
  {
   "cell_type": "code",
   "execution_count": null,
   "id": "77310e7d",
   "metadata": {
    "lines_to_next_cell": 1
   },
   "outputs": [],
   "source": [
    "e1_input = get_input(int, \"Enter the radius of the circle\", \"Enter a valid number\")\n",
    "e1_ans = cal_circle_area(e1_input)\n",
    "\n",
    "print(f\"area of the circle is: {e1_ans}\")"
   ]
  },
  {
   "cell_type": "markdown",
   "id": "8278acd8",
   "metadata": {},
   "source": [
    "<h3>Q2. Create a function to check if a number is prime.</h3>"
   ]
  },
  {
   "cell_type": "code",
   "execution_count": null,
   "id": "0596891d",
   "metadata": {
    "lines_to_next_cell": 1
   },
   "outputs": [],
   "source": [
    "def prime_number(number):\n",
    "    prime = True\n",
    "    \n",
    "    for i in range(2, number):\n",
    "        if number % i == 0:\n",
    "            prime = False\n",
    "\n",
    "    return prime"
   ]
  },
  {
   "cell_type": "code",
   "execution_count": null,
   "id": "c89581c2",
   "metadata": {
    "lines_to_next_cell": 1
   },
   "outputs": [],
   "source": [
    "e2_input = get_input(int, \"Enter a number to check if it is prime\", \"Enter a valid number\")\n",
    "prime = prime_number(e2_input)\n",
    "\n",
    "print(f\"{e2_input} is a prime number.\") if prime else print(f\"{e2_input} is not a prime number.\")"
   ]
  },
  {
   "cell_type": "markdown",
   "id": "9c5e2c52",
   "metadata": {},
   "source": [
    "<h3>Q3. Implement a function that reverses a given string.</h3>"
   ]
  },
  {
   "cell_type": "code",
   "execution_count": null,
   "id": "618772bb",
   "metadata": {
    "lines_to_next_cell": 1
   },
   "outputs": [],
   "source": [
    "def reverse_string(string):\n",
    "    return string[::-1]"
   ]
  },
  {
   "cell_type": "code",
   "execution_count": null,
   "id": "e32fbe73",
   "metadata": {
    "lines_to_next_cell": 1
   },
   "outputs": [],
   "source": [
    "e3_input = input(\"Enter a string: \")\n",
    "\n",
    "print(\"Input string     : \", e3_input)\n",
    "print(\"reverse string   : \", reverse_string(e3_input))"
   ]
  },
  {
   "cell_type": "markdown",
   "id": "3e57028a",
   "metadata": {},
   "source": [
    "<h2>Practice Questions...</h2>"
   ]
  },
  {
   "cell_type": "markdown",
   "id": "7a4c6eeb",
   "metadata": {},
   "source": [
    "<h3>Q1. given a list of numbers, creat function to find the sum of all positive numbers.</h3>"
   ]
  },
  {
   "cell_type": "code",
   "execution_count": null,
   "id": "b0131ac0",
   "metadata": {
    "lines_to_next_cell": 1
   },
   "outputs": [],
   "source": [
    "def find_positive_sum(data):\n",
    "    sum = 0\n",
    "    \n",
    "    for i in data:\n",
    "        if i >= 0:\n",
    "            sum += i\n",
    "\n",
    "    return sum"
   ]
  },
  {
   "cell_type": "code",
   "execution_count": null,
   "id": "9fa23c50",
   "metadata": {
    "lines_to_next_cell": 1
   },
   "outputs": [],
   "source": [
    "q1_input = get_list(int, \"Enter a numeric list, -1 to stop it.: \")\n",
    "q1_ans = find_positive_sum(q1_input)\n",
    "\n",
    "print(f\"Input list: {q1_input}\")\n",
    "print(f\"Sum of all the positive numbers: {q1_ans}\")"
   ]
  },
  {
   "cell_type": "markdown",
   "id": "77953363",
   "metadata": {},
   "source": [
    "<h3>Q2. Write a function to check if the given function if palindrome.</h3>"
   ]
  },
  {
   "cell_type": "code",
   "execution_count": null,
   "id": "2d53bbea",
   "metadata": {
    "lines_to_next_cell": 1
   },
   "outputs": [],
   "source": [
    "def palindrome(string):\n",
    "    reverse = string[::-1]\n",
    "    \n",
    "    return True if reverse == string else False"
   ]
  },
  {
   "cell_type": "code",
   "execution_count": null,
   "id": "4609a9fa",
   "metadata": {
    "lines_to_next_cell": 1
   },
   "outputs": [],
   "source": [
    "q2_input = input(\"Enter a string\").lower()\n",
    "q2_ans = palindrome(q2_input)\n",
    "print(\"Input stirng: \", q2_input)\n",
    "\n",
    "print(\"This is a palindrome stirng\") if q2_ans else print(\"This is not a palindrome stirng\")"
   ]
  },
  {
   "cell_type": "markdown",
   "id": "510db1b3",
   "metadata": {},
   "source": [
    "<h3>Q3. Implement a function that returns the factorial of a given number using recursion.</h3>"
   ]
  },
  {
   "cell_type": "code",
   "execution_count": null,
   "id": "8ba02e3e",
   "metadata": {
    "lines_to_next_cell": 1
   },
   "outputs": [],
   "source": [
    "def factorial(number):\n",
    "    \n",
    "    if number == 0:\n",
    "        return 1\n",
    "    \n",
    "    else:\n",
    "        return number * factorial(number -1)"
   ]
  },
  {
   "cell_type": "code",
   "execution_count": null,
   "id": "3104d464",
   "metadata": {
    "lines_to_next_cell": 1
   },
   "outputs": [],
   "source": [
    "q3_input = get_input(int, \"Enter a number: \", \"Enter a valid number...\")\n",
    "q3_ans = factorial(q3_input)\n",
    "\n",
    "print(f\"Factorial of the number {q3_input}:   {q3_ans}\")"
   ]
  },
  {
   "cell_type": "markdown",
   "id": "e1d6383c",
   "metadata": {},
   "source": [
    "<h3>Q4. Create a function to find the square of each element in a given list.</h3>"
   ]
  },
  {
   "cell_type": "code",
   "execution_count": null,
   "id": "c712cc11",
   "metadata": {
    "lines_to_next_cell": 1
   },
   "outputs": [],
   "source": [
    "def squared_list(list):\n",
    "    return [x**2 for x in list]"
   ]
  },
  {
   "cell_type": "code",
   "execution_count": null,
   "id": "6b514dcb",
   "metadata": {
    "lines_to_next_cell": 1
   },
   "outputs": [],
   "source": [
    "q4_input = get_list(int, \"Enter a number: \")\n",
    "q4_ans = squared_list(q4_input)\n",
    "\n",
    "print(f\"Input list:     {q4_input}\")\n",
    "print(f\"Squared list:   {q4_ans}\")"
   ]
  },
  {
   "cell_type": "markdown",
   "id": "67aa31fc",
   "metadata": {},
   "source": [
    "<h3>Q5. Write a function to check if a number is even or odd and return \"Even\" or \"Odd\" accordingly.</h3>"
   ]
  },
  {
   "cell_type": "code",
   "execution_count": null,
   "id": "246b8aeb",
   "metadata": {
    "lines_to_next_cell": 1
   },
   "outputs": [],
   "source": [
    "def check_if_even(number):\n",
    "    return \"Even\" if number%2 == 0 else \"Odd\""
   ]
  },
  {
   "cell_type": "code",
   "execution_count": null,
   "id": "2c3525b2",
   "metadata": {
    "lines_to_next_cell": 1
   },
   "outputs": [],
   "source": [
    "q5_input = get_input(int, \"Enter a number: \", \"Enter a valid number\")\n",
    "\n",
    "print(f\"{q5_input} is a/an {check_if_even(q5_input)} number.\")"
   ]
  },
  {
   "cell_type": "markdown",
   "id": "18e175ac",
   "metadata": {},
   "source": [
    "<h3>Q6. Calculate the area of a triangle given its base and height useing a function.</h3>\n"
   ]
  },
  {
   "cell_type": "code",
   "execution_count": null,
   "id": "94e7d915",
   "metadata": {
    "lines_to_next_cell": 1
   },
   "outputs": [],
   "source": [
    "def triangle_area(base, height):\n",
    "    return 1/2* base * height"
   ]
  },
  {
   "cell_type": "code",
   "execution_count": null,
   "id": "16606565",
   "metadata": {
    "lines_to_next_cell": 1
   },
   "outputs": [],
   "source": [
    "q6_input_1 = get_input(int, \"Enter the base of the triangle: \", \"Enter a valid number...\")\n",
    "q6_input_2 = get_input(int, \"Enter the height of the triangle: \", \"Enter a valid number...\")\n",
    "\n",
    "print(f\"Base of the triangle:   {q6_input_1}\")\n",
    "print(f\"Height of the triangle: {q6_input_2}\")\n",
    "print(f\"Area of the triangle:   {triangle_area(q6_input_1, q6_input_2)}\")"
   ]
  },
  {
   "cell_type": "markdown",
   "id": "175b931c",
   "metadata": {},
   "source": [
    "<h3>Q7. Create a function that takes a list of strings and returns the list sorted alphabetically.</h3>"
   ]
  },
  {
   "cell_type": "code",
   "execution_count": null,
   "id": "30c5073a",
   "metadata": {
    "lines_to_next_cell": 1
   },
   "outputs": [],
   "source": [
    "#using built-in function:\n",
    "def sort_abc(abc):\n",
    "    return sorted(abc)"
   ]
  },
  {
   "cell_type": "code",
   "execution_count": null,
   "id": "8ea925d7",
   "metadata": {
    "lines_to_next_cell": 1
   },
   "outputs": [],
   "source": [
    "def manual_soritng(abc):\n",
    "    result = list(abc)\n",
    "    n = len(abc)\n",
    "    \n",
    "    # Bubble sort\n",
    "    for i in range(n):\n",
    "        for j in range(n-i-1):\n",
    "            if result[j] > result[j+1]:\n",
    "                result[j], result[j+1] = result[j+1], result[j]\n",
    "    \n",
    "    return result"
   ]
  },
  {
   "cell_type": "code",
   "execution_count": null,
   "id": "cc697283",
   "metadata": {},
   "outputs": [],
   "source": [
    "\n",
    "q7_input = get_list(\"mix\", \"Enter an alphabet: \", stopping_character='-1')\n",
    "\n",
    "print(f\"Input list                   {q7_input}\")\n",
    "print(f\"built-in sorting function:   {sort_abc(q7_input)}\")\n",
    "print(f\"manual sortingfunction:      {manual_soritng(q7_input)}\")"
   ]
  },
  {
   "cell_type": "markdown",
   "id": "121fd59b",
   "metadata": {},
   "source": [
    "<h3>Q8. Write a function that takes two lists and returns their intersection (common elements).</h3>"
   ]
  },
  {
   "cell_type": "code",
   "execution_count": null,
   "id": "a012dc5c",
   "metadata": {
    "lines_to_next_cell": 1
   },
   "outputs": [],
   "source": [
    "def find_common_elements(list_1, list_2):\n",
    "    common_elements = []\n",
    "    \n",
    "    for i in list_1:\n",
    "        if i in list_2:\n",
    "            common_elements.append(i)\n",
    "            list_2.remove(i)\n",
    "    \n",
    "    return common_elements"
   ]
  },
  {
   "cell_type": "code",
   "execution_count": null,
   "id": "1059f3cb",
   "metadata": {
    "lines_to_next_cell": 1
   },
   "outputs": [],
   "source": [
    "q8_input_1 = get_list(\"mix\", \"Enter an element for list 1, -1 to stop. \", stopping_character='-1')\n",
    "q8_input_2 = get_list(\"mix\", \"Enter an element for list 2, -1 to stop. \", stopping_character='-1')\n",
    "\n",
    "print(f\"Input list 1:       {q8_input_1}\")\n",
    "print(f\"Input list 2:       {q8_input_2}\")\n",
    "print(f\"Common Elements:    {find_common_elements(q8_input_1, q8_input_2)}\")"
   ]
  },
  {
   "cell_type": "markdown",
   "id": "ca4381d6",
   "metadata": {},
   "source": [
    "<h3>Q9. Write a function to check if a given year is a leap year or not.</h3>"
   ]
  },
  {
   "cell_type": "code",
   "execution_count": null,
   "id": "e243fe0e",
   "metadata": {
    "lines_to_next_cell": 1
   },
   "outputs": [],
   "source": [
    "def leap_year(year):\n",
    "    \n",
    "    if year % 4 == 0:\n",
    "        if year % 100 == 0 and year % 400 != 0:\n",
    "            return False\n",
    "        return True\n",
    "    return False"
   ]
  },
  {
   "cell_type": "code",
   "execution_count": null,
   "id": "06b0d0fc",
   "metadata": {
    "lines_to_next_cell": 1
   },
   "outputs": [],
   "source": [
    "q9_input = get_input(int, \"Enter a year to check if it is leap year: \", \"Enter a valid year\")\n",
    "\n",
    "print(f\"YES!! {q9_input} is a leap year.\") if leap_year(q9_input) else print(f\"NO! {q9_input} is not a leap year.\")"
   ]
  },
  {
   "cell_type": "markdown",
   "id": "2410a0c3",
   "metadata": {},
   "source": [
    "<h3>Q10. Create a function that takes a number as input and prints its multiplication table.</h3>"
   ]
  },
  {
   "cell_type": "code",
   "execution_count": null,
   "id": "b4f7fccb",
   "metadata": {
    "lines_to_next_cell": 1
   },
   "outputs": [],
   "source": [
    "def multiplication_table(number):\n",
    "    \n",
    "    print(f\"Multiplication Table of {number}\")\n",
    "    for i in range(1, 10+1):\n",
    "        print(f\"{number} x {i} = {number*i}\")"
   ]
  },
  {
   "cell_type": "code",
   "execution_count": null,
   "id": "11bba016",
   "metadata": {},
   "outputs": [],
   "source": [
    "q10_input = get_input(int, \"Enter a number: \", \"Enter a valid number\")\n",
    "multiplication_table(q10_input)"
   ]
  },
  {
   "cell_type": "markdown",
   "id": "6a1a7bf5",
   "metadata": {
    "lines_to_next_cell": 3
   },
   "source": [
    "------------------------------------------------------------------------------------------------------------------\n"
   ]
  }
 ],
 "metadata": {
  "jupytext": {
   "cell_metadata_filter": "-all",
   "main_language": "python",
   "notebook_metadata_filter": "-all"
  }
 },
 "nbformat": 4,
 "nbformat_minor": 5
}
