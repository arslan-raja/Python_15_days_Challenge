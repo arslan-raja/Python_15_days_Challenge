{
 "cells": [
  {
   "cell_type": "markdown",
   "metadata": {},
   "source": [
    "<h2>Examples Questions...</h2> \n",
    "<h3>1. Write a code to print 'Hello World'</h3>"
   ]
  },
  {
   "cell_type": "code",
   "execution_count": 3,
   "metadata": {},
   "outputs": [
    {
     "name": "stdout",
     "output_type": "stream",
     "text": [
      "Hello world!\n"
     ]
    }
   ],
   "source": [
    "print('Hello world!')"
   ]
  },
  {
   "cell_type": "markdown",
   "metadata": {},
   "source": [
    "<h3>2. Calculate sum of two numbers entered by user...</h3>"
   ]
  },
  {
   "cell_type": "code",
   "execution_count": 4,
   "metadata": {},
   "outputs": [
    {
     "ename": "ValueError",
     "evalue": "invalid literal for int() with base 10: 'f'",
     "output_type": "error",
     "traceback": [
      "\u001b[0;31m---------------------------------------------------------------------------\u001b[0m",
      "\u001b[0;31mValueError\u001b[0m                                Traceback (most recent call last)",
      "\u001b[1;32m/home/arslan-khalid/Desktop/Python 15 days Challenge/Python_15_days_Challenge/day-1.ipynb Cell 4\u001b[0m line \u001b[0;36m4\n\u001b[1;32m      <a href='vscode-notebook-cell:/home/arslan-khalid/Desktop/Python%2015%20days%20Challenge/Python_15_days_Challenge/day-1.ipynb#W3sZmlsZQ%3D%3D?line=0'>1</a>\u001b[0m a \u001b[39m=\u001b[39m \u001b[39minput\u001b[39m(\u001b[39m\"\u001b[39m\u001b[39mEnter your first number: \u001b[39m\u001b[39m\"\u001b[39m)\n\u001b[1;32m      <a href='vscode-notebook-cell:/home/arslan-khalid/Desktop/Python%2015%20days%20Challenge/Python_15_days_Challenge/day-1.ipynb#W3sZmlsZQ%3D%3D?line=1'>2</a>\u001b[0m b \u001b[39m=\u001b[39m \u001b[39minput\u001b[39m(\u001b[39m\"\u001b[39m\u001b[39mEnter your second number: \u001b[39m\u001b[39m\"\u001b[39m)\n\u001b[0;32m----> <a href='vscode-notebook-cell:/home/arslan-khalid/Desktop/Python%2015%20days%20Challenge/Python_15_days_Challenge/day-1.ipynb#W3sZmlsZQ%3D%3D?line=3'>4</a>\u001b[0m \u001b[39mprint\u001b[39m(\u001b[39m\"\u001b[39m\u001b[39mAnswer: \u001b[39m\u001b[39m\"\u001b[39m, \u001b[39mint\u001b[39m(a)\u001b[39m+\u001b[39m\u001b[39mint\u001b[39;49m(b))\n",
      "\u001b[0;31mValueError\u001b[0m: invalid literal for int() with base 10: 'f'"
     ]
    }
   ],
   "source": [
    "a = input(\"Enter your first number: \")\n",
    "b = input(\"Enter your second number: \")\n",
    "\n",
    "print(\"Answer: \", int(a)+int(b))\n"
   ]
  },
  {
   "cell_type": "markdown",
   "metadata": {},
   "source": [
    "<h3>3. Convert temperature from Celsius to Ferenhiet.</h3>"
   ]
  },
  {
   "cell_type": "code",
   "execution_count": null,
   "metadata": {},
   "outputs": [
    {
     "name": "stdout",
     "output_type": "stream",
     "text": [
      "Farenhiet temperature:  98.60000000000001\n"
     ]
    }
   ],
   "source": [
    "while True:\n",
    "    try:\n",
    "        celsius = float(input(\"Enter temperature in Celsius: \"))\n",
    "        break\n",
    "    except ValueError:\n",
    "        print(\"Temperature is not correct...\")\n",
    "\n",
    "ans = 9/5*celsius + 32\n",
    "\n",
    "print(\"Farenhiet temperature: \", ans)"
   ]
  },
  {
   "cell_type": "markdown",
   "metadata": {},
   "source": [
    "<h2>Practice Questions...</h2> "
   ]
  },
  {
   "cell_type": "code",
   "execution_count": null,
   "metadata": {},
   "outputs": [],
   "source": [
    "#function to get dtype(int) input from user...\n",
    "\n",
    "def get_input(data_type, input_label, error_label):\n",
    "    while True:\n",
    "        try:\n",
    "            return data_type(input(input_label))\n",
    "        except ValueError:\n",
    "            print(error_label)"
   ]
  },
  {
   "cell_type": "markdown",
   "metadata": {},
   "source": [
    "<h3>1. Calculate the area of rectangle</h3>"
   ]
  },
  {
   "cell_type": "code",
   "execution_count": null,
   "metadata": {},
   "outputs": [
    {
     "name": "stdout",
     "output_type": "stream",
     "text": [
      "height must be a number.\n",
      "Area:  9.0\n"
     ]
    }
   ],
   "source": [
    "height = get_input(float, \"Enter height: \", \"height must be a number.\")\n",
    "width = get_input(float, \"Enter width: \", \"width must be a number.\")\n",
    "\n",
    "print(\"Area: \", width* height)"
   ]
  },
  {
   "cell_type": "markdown",
   "metadata": {},
   "source": [
    "<h3>2. Printing Greeting message...</h3>"
   ]
  },
  {
   "cell_type": "code",
   "execution_count": null,
   "metadata": {},
   "outputs": [
    {
     "name": "stdout",
     "output_type": "stream",
     "text": [
      "Age must be a number..\n",
      "Hello arslan, so you are 23 years now.\n"
     ]
    }
   ],
   "source": [
    "name = input(\"Enter your name: \")\n",
    "age = get_input(int, \"Enter your age: \", \"Age must be a number..\")\n",
    "\n",
    "print(f\"Hello {name}, so you are {age} years old now.\")"
   ]
  },
  {
   "cell_type": "markdown",
   "metadata": {},
   "source": [
    "<h3>3. Program to check if input is even or odd...</h3>"
   ]
  },
  {
   "cell_type": "code",
   "execution_count": null,
   "metadata": {},
   "outputs": [
    {
     "name": "stdout",
     "output_type": "stream",
     "text": [
      "34 is an even number.\n"
     ]
    }
   ],
   "source": [
    "num = get_input(int, \"Enter a number: \", \"Please enter a number\")\n",
    "\n",
    "print(f\"{num} is an even number.\") if num%2 == 0 else print(f\"{num} is an odd number.\")\n"
   ]
  },
  {
   "cell_type": "markdown",
   "metadata": {},
   "source": [
    "<h3>4. Finding min and max of a list...</h3>"
   ]
  },
  {
   "cell_type": "code",
   "execution_count": null,
   "metadata": {},
   "outputs": [
    {
     "name": "stdout",
     "output_type": "stream",
     "text": [
      "min:  0\n",
      "max:  9\n"
     ]
    }
   ],
   "source": [
    "listt = []\n",
    "number = 0\n",
    "\n",
    "while (True):\n",
    "    number = get_input(int, \"Enter your number: \", \"Please enter a number\")\n",
    "    \n",
    "    if (number == -1):\n",
    "        break\n",
    "    listt.append(number)\n",
    "\n",
    "min = listt[0]\n",
    "max = listt[0]\n",
    "for i in range(len(listt)):\n",
    "    if listt[i] > max:\n",
    "        max = listt[i]\n",
    "    \n",
    "    if listt[i] < min:\n",
    "        min = listt[i]\n",
    "        \n",
    "print(\"min: \", min)\n",
    "print(\"max: \", max)"
   ]
  },
  {
   "cell_type": "markdown",
   "metadata": {},
   "source": [
    "<h3>5. Checking Palindrome...</h3>"
   ]
  },
  {
   "cell_type": "code",
   "execution_count": null,
   "metadata": {},
   "outputs": [
    {
     "name": "stdout",
     "output_type": "stream",
     "text": [
      "hello is not a Palindrome\n"
     ]
    }
   ],
   "source": [
    "strr = input(\"Enter your string: \")\n",
    "reverse = \"\"\n",
    "\n",
    "for i in range(len(strr)):\n",
    "    reverse += strr[len(strr) - 1 - i]\n",
    "\n",
    "if strr == reverse:\n",
    "    print(f\"{strr} is a Palindrome\")\n",
    "\n",
    "else:\n",
    "    print(f\"{strr} is not a Palindrome\")"
   ]
  },
  {
   "cell_type": "markdown",
   "metadata": {},
   "source": [
    "<h3>6. Calculate compound interest...</h3>"
   ]
  },
  {
   "cell_type": "code",
   "execution_count": null,
   "metadata": {},
   "outputs": [
    {
     "name": "stdout",
     "output_type": "stream",
     "text": [
      "Compound Interest: 1160 USD\n"
     ]
    }
   ],
   "source": [
    "amount = get_input(float, \"Enter your current amount(USD): \", \"Enter a valid amount\")\n",
    "time = get_input(float, \"Given Time(years): \", \"Enter a valid time\")\n",
    "n = get_input(float, \"Number of interest per year: \", \"Enter a valid number\")\n",
    "interest_rate = get_input(float, \"Enter your interest rate(%): \", \"Enter a valid number\") / 100\n",
    "\n",
    "ans = amount * (1 + (interest_rate / n))**(n * time)\n",
    "print(\"Compound Interest:\", int(ans), \"USD\")\n"
   ]
  },
  {
   "cell_type": "code",
   "execution_count": null,
   "metadata": {},
   "outputs": [],
   "source": [
    "def get_input(data_type, input_label, error_label):\n",
    "    while True:\n",
    "        try:\n",
    "            return data_type(input(input_label))\n",
    "        except ValueError:\n",
    "            print(error_label)"
   ]
  },
  {
   "cell_type": "markdown",
   "metadata": {},
   "source": []
  }
 ],
 "metadata": {
  "kernelspec": {
   "display_name": "Python 3",
   "language": "python",
   "name": "python3"
  },
  "language_info": {
   "codemirror_mode": {
    "name": "ipython",
    "version": 3
   },
   "file_extension": ".py",
   "mimetype": "text/x-python",
   "name": "python",
   "nbconvert_exporter": "python",
   "pygments_lexer": "ipython3",
   "version": "3.11.4"
  }
 },
 "nbformat": 4,
 "nbformat_minor": 2
}
